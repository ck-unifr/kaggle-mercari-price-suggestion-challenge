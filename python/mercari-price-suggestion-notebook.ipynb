{
  "cells": [
    {
      "metadata": {
        "_cell_guid": "5e7d23f7-c782-4336-8be2-86bc17ce64ba",
        "_uuid": "17be909f6e7dcf6c0e859f761f7b45a77e1f29d6",
        "trusted": true
      },
      "cell_type": "code",
      "source": "# This Python 3 environment comes with many helpful analytics libraries installed\n# It is defined by the kaggle/python docker image: https://github.com/kaggle/docker-python\n# For example, here's several helpful packages to load in \n\nimport numpy as np # linear algebra\nimport pandas as pd # data processing, CSV file I/O (e.g. pd.read_csv)\n\nfrom sklearn.preprocessing import LabelEncoder, MinMaxScaler, StandardScaler\nfrom sklearn.cross_validation import train_test_split\n\nimport matplotlib.pyplot as plt\nimport math\n\n# Input data files are available in the \"../input/\" directory.\n# For example, running this (by clicking run or pressing Shift+Enter) will list the files in the input directory\n\nfrom subprocess import check_output\nprint(check_output([\"ls\", \"../input\"]).decode(\"utf8\"))\n\n# Any results you write to the current directory are saved as output.\ndef rmsle(y, y_pred):\n    assert len(y) == len(y_pred)\n    to_sum = [(math.log(y_pred[i] + 1) - math.log(y[i] + 1)) ** 2.0 for i,pred in enumerate(y_pred)]\n    return (sum(to_sum) * (1.0/len(y))) ** 0.5\n#Source: https://www.kaggle.com/marknagelberg/rmsle-function\n",
      "execution_count": 3,
      "outputs": [
        {
          "output_type": "stream",
          "text": "sample_submission.csv\ntest.tsv\ntrain.tsv\n\n",
          "name": "stdout"
        }
      ]
    },
    {
      "metadata": {
        "trusted": true,
        "_uuid": "778abe004ce07b7c532ca9c8689c6cfac4be7576"
      },
      "cell_type": "code",
      "source": "#LOAD DATA\nprint(\"Loading data...\")\ntrain = pd.read_table(\"../input/train.tsv\")\ntest = pd.read_table(\"../input/test.tsv\")\nprint(train.shape)\nprint(test.shape)",
      "execution_count": 4,
      "outputs": [
        {
          "output_type": "stream",
          "text": "Loading data...\n(1482535, 8)\n(693359, 7)\n",
          "name": "stdout"
        }
      ]
    },
    {
      "metadata": {
        "trusted": true,
        "_uuid": "e5f4d4e53525b13a7e0bd366d06dba630cb79bb3"
      },
      "cell_type": "code",
      "source": "#HANDLE MISSING VALUES\nprint(\"Handling missing values...\")\ndef handle_missing(dataset):\n    dataset.category_name.fillna(value=\"missing\", inplace=True)\n    dataset.brand_name.fillna(value=\"missing\", inplace=True)\n    dataset.item_description.fillna(value=\"missing\", inplace=True)\n    return (dataset)\n\ntrain = handle_missing(train)\ntest = handle_missing(test)\nprint(train.shape)\nprint(test.shape)",
      "execution_count": 5,
      "outputs": [
        {
          "output_type": "stream",
          "text": "Handling missing values...\n(1482535, 8)\n(693359, 7)\n",
          "name": "stdout"
        }
      ]
    },
    {
      "metadata": {
        "trusted": true,
        "_uuid": "7d1b3d740b30845e0753f12653c83d1972684cfd"
      },
      "cell_type": "code",
      "source": "train.head(3)",
      "execution_count": 6,
      "outputs": [
        {
          "output_type": "execute_result",
          "execution_count": 6,
          "data": {
            "text/plain": "   train_id                                 name  item_condition_id  \\\n0         0  MLB Cincinnati Reds T Shirt Size XL                  3   \n1         1     Razer BlackWidow Chroma Keyboard                  3   \n2         2                       AVA-VIV Blouse                  1   \n\n                                       category_name brand_name  price  \\\n0                                  Men/Tops/T-shirts    missing   10.0   \n1  Electronics/Computers & Tablets/Components & P...      Razer   52.0   \n2                        Women/Tops & Blouses/Blouse     Target   10.0   \n\n   shipping                                   item_description  \n0         1                                 No description yet  \n1         0  This keyboard is in great condition and works ...  \n2         1  Adorable top with a hint of lace and a key hol...  ",
            "text/html": "<div>\n<style>\n    .dataframe thead tr:only-child th {\n        text-align: right;\n    }\n\n    .dataframe thead th {\n        text-align: left;\n    }\n\n    .dataframe tbody tr th {\n        vertical-align: top;\n    }\n</style>\n<table border=\"1\" class=\"dataframe\">\n  <thead>\n    <tr style=\"text-align: right;\">\n      <th></th>\n      <th>train_id</th>\n      <th>name</th>\n      <th>item_condition_id</th>\n      <th>category_name</th>\n      <th>brand_name</th>\n      <th>price</th>\n      <th>shipping</th>\n      <th>item_description</th>\n    </tr>\n  </thead>\n  <tbody>\n    <tr>\n      <th>0</th>\n      <td>0</td>\n      <td>MLB Cincinnati Reds T Shirt Size XL</td>\n      <td>3</td>\n      <td>Men/Tops/T-shirts</td>\n      <td>missing</td>\n      <td>10.0</td>\n      <td>1</td>\n      <td>No description yet</td>\n    </tr>\n    <tr>\n      <th>1</th>\n      <td>1</td>\n      <td>Razer BlackWidow Chroma Keyboard</td>\n      <td>3</td>\n      <td>Electronics/Computers &amp; Tablets/Components &amp; P...</td>\n      <td>Razer</td>\n      <td>52.0</td>\n      <td>0</td>\n      <td>This keyboard is in great condition and works ...</td>\n    </tr>\n    <tr>\n      <th>2</th>\n      <td>2</td>\n      <td>AVA-VIV Blouse</td>\n      <td>1</td>\n      <td>Women/Tops &amp; Blouses/Blouse</td>\n      <td>Target</td>\n      <td>10.0</td>\n      <td>1</td>\n      <td>Adorable top with a hint of lace and a key hol...</td>\n    </tr>\n  </tbody>\n</table>\n</div>"
          },
          "metadata": {}
        }
      ]
    },
    {
      "metadata": {
        "trusted": true,
        "_uuid": "ca8e90c1ad127c212eda249b3177da127b612519"
      },
      "cell_type": "code",
      "source": "test.head(3)",
      "execution_count": 12,
      "outputs": [
        {
          "output_type": "execute_result",
          "execution_count": 12,
          "data": {
            "text/plain": "   test_id                                      name  item_condition_id  \\\n0        0  Breast cancer \"I fight like a girl\" ring                  1   \n1        1  25 pcs NEW 7.5\"x12\" Kraft Bubble Mailers                  1   \n2        2                                 Coach bag                  1   \n\n   category_name  brand_name  shipping  \\\n0           1205        5265         1   \n1            899        5265         1   \n2           1000        1094         1   \n\n                                    item_description  \\\n0                                             Size 7   \n1  25 pcs NEW 7.5\"x12\" Kraft Bubble Mailers Lined...   \n2  Brand new coach bag. Bought for [rm] at a Coac...   \n\n                                seq_item_description  \\\n0                                            [6, 64]   \n1  [430, 811, 5, 64, 34, 9000, 5191, 620, 1021, 7...   \n2   [16, 5, 313, 101, 201, 3, 21, 107, 4, 313, 3678]   \n\n                                       seq_name  \n0       [1797, 3536, 15, 5472, 51, 4, 266, 265]  \n1  [430, 811, 5, 64, 34, 9000, 5191, 620, 1021]  \n2                                    [313, 101]  ",
            "text/html": "<div>\n<style>\n    .dataframe thead tr:only-child th {\n        text-align: right;\n    }\n\n    .dataframe thead th {\n        text-align: left;\n    }\n\n    .dataframe tbody tr th {\n        vertical-align: top;\n    }\n</style>\n<table border=\"1\" class=\"dataframe\">\n  <thead>\n    <tr style=\"text-align: right;\">\n      <th></th>\n      <th>test_id</th>\n      <th>name</th>\n      <th>item_condition_id</th>\n      <th>category_name</th>\n      <th>brand_name</th>\n      <th>shipping</th>\n      <th>item_description</th>\n      <th>seq_item_description</th>\n      <th>seq_name</th>\n    </tr>\n  </thead>\n  <tbody>\n    <tr>\n      <th>0</th>\n      <td>0</td>\n      <td>Breast cancer \"I fight like a girl\" ring</td>\n      <td>1</td>\n      <td>1205</td>\n      <td>5265</td>\n      <td>1</td>\n      <td>Size 7</td>\n      <td>[6, 64]</td>\n      <td>[1797, 3536, 15, 5472, 51, 4, 266, 265]</td>\n    </tr>\n    <tr>\n      <th>1</th>\n      <td>1</td>\n      <td>25 pcs NEW 7.5\"x12\" Kraft Bubble Mailers</td>\n      <td>1</td>\n      <td>899</td>\n      <td>5265</td>\n      <td>1</td>\n      <td>25 pcs NEW 7.5\"x12\" Kraft Bubble Mailers Lined...</td>\n      <td>[430, 811, 5, 64, 34, 9000, 5191, 620, 1021, 7...</td>\n      <td>[430, 811, 5, 64, 34, 9000, 5191, 620, 1021]</td>\n    </tr>\n    <tr>\n      <th>2</th>\n      <td>2</td>\n      <td>Coach bag</td>\n      <td>1</td>\n      <td>1000</td>\n      <td>1094</td>\n      <td>1</td>\n      <td>Brand new coach bag. Bought for [rm] at a Coac...</td>\n      <td>[16, 5, 313, 101, 201, 3, 21, 107, 4, 313, 3678]</td>\n      <td>[313, 101]</td>\n    </tr>\n  </tbody>\n</table>\n</div>"
          },
          "metadata": {}
        }
      ]
    },
    {
      "metadata": {
        "trusted": true,
        "_uuid": "2e89f3e0d5286790261b2a03d74dd896b122da24"
      },
      "cell_type": "code",
      "source": "#PROCESS CATEGORICAL DATA\nprint(\"Handling categorical variables...\")\nle = LabelEncoder()\n\nle.fit(np.hstack([train.category_name, test.category_name]))\ntrain.category_name = le.transform(train.category_name)\ntest.category_name = le.transform(test.category_name)\n\nle.fit(np.hstack([train.brand_name, test.brand_name]))\ntrain.brand_name = le.transform(train.brand_name)\ntest.brand_name = le.transform(test.brand_name)\ndel le\n\ntrain.head(3)",
      "execution_count": 7,
      "outputs": [
        {
          "output_type": "stream",
          "text": "Handling categorical variables...\n",
          "name": "stdout"
        },
        {
          "output_type": "execute_result",
          "execution_count": 7,
          "data": {
            "text/plain": "   train_id                                 name  item_condition_id  \\\n0         0  MLB Cincinnati Reds T Shirt Size XL                  3   \n1         1     Razer BlackWidow Chroma Keyboard                  3   \n2         2                       AVA-VIV Blouse                  1   \n\n   category_name  brand_name  price  shipping  \\\n0            829        5265   10.0         1   \n1             86        3889   52.0         0   \n2           1277        4588   10.0         1   \n\n                                    item_description  \n0                                 No description yet  \n1  This keyboard is in great condition and works ...  \n2  Adorable top with a hint of lace and a key hol...  ",
            "text/html": "<div>\n<style>\n    .dataframe thead tr:only-child th {\n        text-align: right;\n    }\n\n    .dataframe thead th {\n        text-align: left;\n    }\n\n    .dataframe tbody tr th {\n        vertical-align: top;\n    }\n</style>\n<table border=\"1\" class=\"dataframe\">\n  <thead>\n    <tr style=\"text-align: right;\">\n      <th></th>\n      <th>train_id</th>\n      <th>name</th>\n      <th>item_condition_id</th>\n      <th>category_name</th>\n      <th>brand_name</th>\n      <th>price</th>\n      <th>shipping</th>\n      <th>item_description</th>\n    </tr>\n  </thead>\n  <tbody>\n    <tr>\n      <th>0</th>\n      <td>0</td>\n      <td>MLB Cincinnati Reds T Shirt Size XL</td>\n      <td>3</td>\n      <td>829</td>\n      <td>5265</td>\n      <td>10.0</td>\n      <td>1</td>\n      <td>No description yet</td>\n    </tr>\n    <tr>\n      <th>1</th>\n      <td>1</td>\n      <td>Razer BlackWidow Chroma Keyboard</td>\n      <td>3</td>\n      <td>86</td>\n      <td>3889</td>\n      <td>52.0</td>\n      <td>0</td>\n      <td>This keyboard is in great condition and works ...</td>\n    </tr>\n    <tr>\n      <th>2</th>\n      <td>2</td>\n      <td>AVA-VIV Blouse</td>\n      <td>1</td>\n      <td>1277</td>\n      <td>4588</td>\n      <td>10.0</td>\n      <td>1</td>\n      <td>Adorable top with a hint of lace and a key hol...</td>\n    </tr>\n  </tbody>\n</table>\n</div>"
          },
          "metadata": {}
        }
      ]
    },
    {
      "metadata": {
        "trusted": true,
        "_uuid": "3e2dab19757c1a22a60119bca7cf4ec5ebc02886"
      },
      "cell_type": "code",
      "source": "#PROCESS TEXT: RAW\nprint(\"Text to seq process...\")\nfrom keras.preprocessing.text import Tokenizer\nraw_text = np.hstack([train.item_description.str.lower(), train.name.str.lower()])\n\nprint(\"   Fitting tokenizer...\")\ntok_raw = Tokenizer()\ntok_raw.fit_on_texts(raw_text)\nprint(\"   Transforming text to seq...\")\n\ntrain[\"seq_item_description\"] = tok_raw.texts_to_sequences(train.item_description.str.lower())\ntest[\"seq_item_description\"] = tok_raw.texts_to_sequences(test.item_description.str.lower())\ntrain[\"seq_name\"] = tok_raw.texts_to_sequences(train.name.str.lower())\ntest[\"seq_name\"] = tok_raw.texts_to_sequences(test.name.str.lower())\ntrain.head(3)",
      "execution_count": 8,
      "outputs": [
        {
          "output_type": "stream",
          "text": "Text to seq process...\n",
          "name": "stdout"
        },
        {
          "output_type": "stream",
          "text": "Using TensorFlow backend.\n",
          "name": "stderr"
        },
        {
          "output_type": "stream",
          "text": "   Fitting tokenizer...\n   Transforming text to seq...\n",
          "name": "stdout"
        },
        {
          "output_type": "execute_result",
          "execution_count": 8,
          "data": {
            "text/plain": "   train_id                                 name  item_condition_id  \\\n0         0  MLB Cincinnati Reds T Shirt Size XL                  3   \n1         1     Razer BlackWidow Chroma Keyboard                  3   \n2         2                       AVA-VIV Blouse                  1   \n\n   category_name  brand_name  price  shipping  \\\n0            829        5265   10.0         1   \n1             86        3889   52.0         0   \n2           1277        4588   10.0         1   \n\n                                    item_description  \\\n0                                 No description yet   \n1  This keyboard is in great condition and works ...   \n2  Adorable top with a hint of lace and a key hol...   \n\n                                seq_item_description  \\\n0                                       [12, 68, 79]   \n1  [29, 2627, 10, 7, 39, 17, 1, 207, 51, 19, 1113...   \n2  [604, 60, 9, 4, 5347, 11, 192, 1, 4, 886, 1290...   \n\n                              seq_name  \n0  [3852, 8823, 6896, 208, 84, 6, 155]  \n1          [10760, 25565, 16369, 2627]  \n2                   [7634, 10563, 666]  ",
            "text/html": "<div>\n<style>\n    .dataframe thead tr:only-child th {\n        text-align: right;\n    }\n\n    .dataframe thead th {\n        text-align: left;\n    }\n\n    .dataframe tbody tr th {\n        vertical-align: top;\n    }\n</style>\n<table border=\"1\" class=\"dataframe\">\n  <thead>\n    <tr style=\"text-align: right;\">\n      <th></th>\n      <th>train_id</th>\n      <th>name</th>\n      <th>item_condition_id</th>\n      <th>category_name</th>\n      <th>brand_name</th>\n      <th>price</th>\n      <th>shipping</th>\n      <th>item_description</th>\n      <th>seq_item_description</th>\n      <th>seq_name</th>\n    </tr>\n  </thead>\n  <tbody>\n    <tr>\n      <th>0</th>\n      <td>0</td>\n      <td>MLB Cincinnati Reds T Shirt Size XL</td>\n      <td>3</td>\n      <td>829</td>\n      <td>5265</td>\n      <td>10.0</td>\n      <td>1</td>\n      <td>No description yet</td>\n      <td>[12, 68, 79]</td>\n      <td>[3852, 8823, 6896, 208, 84, 6, 155]</td>\n    </tr>\n    <tr>\n      <th>1</th>\n      <td>1</td>\n      <td>Razer BlackWidow Chroma Keyboard</td>\n      <td>3</td>\n      <td>86</td>\n      <td>3889</td>\n      <td>52.0</td>\n      <td>0</td>\n      <td>This keyboard is in great condition and works ...</td>\n      <td>[29, 2627, 10, 7, 39, 17, 1, 207, 51, 19, 1113...</td>\n      <td>[10760, 25565, 16369, 2627]</td>\n    </tr>\n    <tr>\n      <th>2</th>\n      <td>2</td>\n      <td>AVA-VIV Blouse</td>\n      <td>1</td>\n      <td>1277</td>\n      <td>4588</td>\n      <td>10.0</td>\n      <td>1</td>\n      <td>Adorable top with a hint of lace and a key hol...</td>\n      <td>[604, 60, 9, 4, 5347, 11, 192, 1, 4, 886, 1290...</td>\n      <td>[7634, 10563, 666]</td>\n    </tr>\n  </tbody>\n</table>\n</div>"
          },
          "metadata": {}
        }
      ]
    },
    {
      "metadata": {
        "trusted": true,
        "_uuid": "3339bb953698d1e81372f81a30ebef67b1a44eed"
      },
      "cell_type": "code",
      "source": "#SEQUENCES VARIABLES ANALYSIS\nmax_name_seq = np.max([np.max(train.seq_name.apply(lambda x: len(x))), np.max(test.seq_name.apply(lambda x: len(x)))])\nmax_seq_item_description = np.max([np.max(train.seq_item_description.apply(lambda x: len(x)))\n                                   , np.max(test.seq_item_description.apply(lambda x: len(x)))])\nprint(\"max name seq \"+str(max_name_seq))\nprint(\"max item desc seq \"+str(max_seq_item_description))",
      "execution_count": 9,
      "outputs": [
        {
          "output_type": "stream",
          "text": "max name seq 17\nmax item desc seq 269\n",
          "name": "stdout"
        }
      ]
    },
    {
      "metadata": {
        "trusted": true,
        "_uuid": "8288a608aea65f1b59fe2837b11297e44050e86a"
      },
      "cell_type": "code",
      "source": "train.seq_name.apply(lambda x: len(x)).hist()",
      "execution_count": 10,
      "outputs": [
        {
          "output_type": "execute_result",
          "execution_count": 10,
          "data": {
            "text/plain": "<matplotlib.axes._subplots.AxesSubplot at 0x7f5d967493c8>"
          },
          "metadata": {}
        },
        {
          "output_type": "display_data",
          "data": {
            "text/plain": "<matplotlib.figure.Figure at 0x7f5e4dc5ec18>",
            "image/png": "[encoded data removed]"
          },
          "metadata": {}
        }
      ]
    },
    {
      "metadata": {
        "trusted": true,
        "_uuid": "b543f51b90b984fa41af4a2978ed048a39e47479"
      },
      "cell_type": "code",
      "source": "train.seq_item_description.apply(lambda x: len(x)).hist()",
      "execution_count": 11,
      "outputs": [
        {
          "output_type": "execute_result",
          "execution_count": 11,
          "data": {
            "text/plain": "<matplotlib.axes._subplots.AxesSubplot at 0x7f5da482f208>"
          },
          "metadata": {}
        },
        {
          "output_type": "display_data",
          "data": {
            "text/plain": "<matplotlib.figure.Figure at 0x7f5da4845b38>",
            "image/png": "[encoded data removed]"
          },
          "metadata": {}
        }
      ]
    },
    {
      "metadata": {
        "trusted": true,
        "collapsed": true,
        "_uuid": "859e4610e8bca4ec1310bd4def799a1b9420ae53"
      },
      "cell_type": "code",
      "source": "#EMBEDDINGS MAX VALUE\n#Base on the histograms, we select the next lengths\nMAX_NAME_SEQ = 10\nMAX_ITEM_DESC_SEQ = 75\nMAX_TEXT = np.max([np.max(train.seq_name.max())\n                   , np.max(test.seq_name.max())\n                  , np.max(train.seq_item_description.max())\n                  , np.max(test.seq_item_description.max())])+2\nMAX_CATEGORY = np.max([train.category_name.max(), test.category_name.max()])+1\nMAX_BRAND = np.max([train.brand_name.max(), test.brand_name.max()])+1\nMAX_CONDITION = np.max([train.item_condition_id.max(), test.item_condition_id.max()])+1",
      "execution_count": 13,
      "outputs": []
    },
    {
      "metadata": {
        "trusted": true,
        "_uuid": "6d9376cb1dd1ebf63374a9445bf4a88ddd9fed1a"
      },
      "cell_type": "code",
      "source": "#SCALE target variable\ntrain[\"target\"] = np.log(train.price+1)\ntarget_scaler = MinMaxScaler(feature_range=(-1, 1))\ntrain[\"target\"] = target_scaler.fit_transform(train.target.values.reshape(-1,1))\npd.DataFrame(train.target).hist()",
      "execution_count": 15,
      "outputs": [
        {
          "output_type": "execute_result",
          "execution_count": 15,
          "data": {
            "text/plain": "array([[<matplotlib.axes._subplots.AxesSubplot object at 0x7f5d9dba8ef0>]], dtype=object)"
          },
          "metadata": {}
        },
        {
          "output_type": "display_data",
          "data": {
            "text/plain": "<matplotlib.figure.Figure at 0x7f5da482fc88>",
            "image/png": "[encoded data removed]"
          },
          "metadata": {}
        }
      ]
    },
    {
      "metadata": {
        "trusted": true,
        "_uuid": "2ccea38cde0a4b707fff15368b8bd21f571b3033"
      },
      "cell_type": "code",
      "source": "#EXTRACT DEVELOPTMENT TEST\ndtrain, dvalid = train_test_split(train, random_state=42, train_size=0.99)\nprint(dtrain.shape)\nprint(dvalid.shape)",
      "execution_count": 16,
      "outputs": [
        {
          "output_type": "stream",
          "text": "(1467709, 11)\n(14826, 11)\n",
          "name": "stdout"
        }
      ]
    },
    {
      "metadata": {
        "trusted": true,
        "collapsed": true,
        "_uuid": "b092d83ebaa61a2d03520443b5cc8103da6f758c"
      },
      "cell_type": "code",
      "source": "#KERAS DATA DEFINITION\nfrom keras.preprocessing.sequence import pad_sequences\n\ndef get_keras_data(dataset):\n    X = {\n        'name': pad_sequences(dataset.seq_name, maxlen=MAX_NAME_SEQ)\n        ,'item_desc': pad_sequences(dataset.seq_item_description, maxlen=MAX_ITEM_DESC_SEQ)\n        ,'brand_name': np.array(dataset.brand_name)\n        ,'category_name': np.array(dataset.category_name)\n        ,'item_condition': np.array(dataset.item_condition_id)\n        ,'num_vars': np.array(dataset[[\"shipping\"]])\n    }\n    return X\n\nX_train = get_keras_data(dtrain)\nX_valid = get_keras_data(dvalid)\nX_test = get_keras_data(test)",
      "execution_count": 17,
      "outputs": []
    },
    {
      "metadata": {
        "trusted": true,
        "_uuid": "602f24b69193689fdb3ddcd59b686f9bc6f348bf"
      },
      "cell_type": "code",
      "source": "#KERAS MODEL DEFINITION\nfrom keras.layers import Input, Dropout, Dense, BatchNormalization, Activation, concatenate, GRU, Embedding, Flatten, BatchNormalization\nfrom keras.models import Model\nfrom keras.callbacks import ModelCheckpoint, Callback, EarlyStopping\nfrom keras import backend as K\nfrom keras.models import Sequential\nfrom keras.layers import Dense, Dropout, Embedding, LSTM, Bidirectional\nfrom keras.layers import Conv1D, GlobalMaxPooling1D\n\ndef get_callbacks(filepath, patience=2):\n    es = EarlyStopping('val_loss', patience=patience, mode=\"min\")\n    msave = ModelCheckpoint(filepath, save_best_only=True)\n    return [es, msave]\n\ndef rmsle_cust(y_true, y_pred):\n    first_log = K.log(K.clip(y_pred, K.epsilon(), None) + 1.)\n    second_log = K.log(K.clip(y_true, K.epsilon(), None) + 1.)\n    return K.sqrt(K.mean(K.square(first_log - second_log), axis=-1))\n\n#TODO:\n#- Increase the embeddings factos\n#- Decrease the batch size\n#- Add Batch Normalization\n#- Try LSTM, Bidirectional RNN, stack RNN\n#- Try with more dense layers or more rnn outputs\n#-  etc. Or even try a new architecture!\n\ndef get_cnn1d_model():\n    #params\n    dr_r = 0.25\n    \n    #Inputs\n    name = Input(shape=[X_train[\"name\"].shape[1]], name=\"name\")\n    item_desc = Input(shape=[X_train[\"item_desc\"].shape[1]], name=\"item_desc\")\n    brand_name = Input(shape=[1], name=\"brand_name\")\n    category_name = Input(shape=[1], name=\"category_name\")\n    item_condition = Input(shape=[1], name=\"item_condition\")\n    num_vars = Input(shape=[X_train[\"num_vars\"].shape[1]], name=\"num_vars\")\n    \n    #Embeddings layers\n    emb_name = Embedding(MAX_TEXT, 100)(name)\n    emb_item_desc = Embedding(MAX_TEXT, 100)(item_desc)\n    emb_brand_name = Embedding(MAX_BRAND, 20)(brand_name)\n    emb_category_name = Embedding(MAX_CATEGORY, 20)(category_name)\n    emb_item_condition = Embedding(MAX_CONDITION, 10)(item_condition)\n    \n    #cnn layers\n    filters = 32\n    kernel_size = 3\n    cnn_layer1 = Conv1D(32, 3, padding='valid', activation='relu', strides=1) (emb_item_desc)\n    cnn_layer1 = GlobalMaxPooling1D()(cnn_layer1)\n\n    cnn_layer2 = Conv1D(16, 3, padding='valid', activation='relu', strides=1) (emb_name)\n    cnn_layer2 = GlobalMaxPooling1D()(cnn_layer2)\n    \n    #main layer\n    main_l = concatenate([\n        Flatten() (emb_brand_name)\n        , Flatten() (emb_category_name)\n        , Flatten() (emb_item_condition)\n        , cnn_layer1\n        , cnn_layer2\n        , num_vars\n    ])\n    \n    main_l = Dropout(dr_r) (Dense(128) (main_l))\n    main_l = BatchNormalization()(main_l)\n    main_l = Dropout(dr_r) (Dense(64) (main_l))\n    main_l = BatchNormalization() (main_l)\n    main_l = Dropout(dr_r) (Dense(32) (main_l))\n    main_l = BatchNormalization() (main_l)\n    \n    #output\n    output = Dense(1, activation=\"linear\") (main_l)\n    \n    #model\n    model = Model([name, item_desc, brand_name, category_name, item_condition, num_vars], output)\n    model.compile(loss=\"mse\", optimizer=\"adam\", metrics=[\"mae\", rmsle_cust])\n    \n    return model\n\ndef get_bi_lstm_model():\n    #params\n    dr_r = 0.25\n    \n    #Inputs\n    name = Input(shape=[X_train[\"name\"].shape[1]], name=\"name\")\n    item_desc = Input(shape=[X_train[\"item_desc\"].shape[1]], name=\"item_desc\")\n    brand_name = Input(shape=[1], name=\"brand_name\")\n    category_name = Input(shape=[1], name=\"category_name\")\n    item_condition = Input(shape=[1], name=\"item_condition\")\n    num_vars = Input(shape=[X_train[\"num_vars\"].shape[1]], name=\"num_vars\")\n    \n    #Embeddings layers\n    emb_name = Embedding(MAX_TEXT, 100)(name)\n    emb_item_desc = Embedding(MAX_TEXT, 100)(item_desc)\n    emb_brand_name = Embedding(MAX_BRAND, 20)(brand_name)\n    emb_category_name = Embedding(MAX_CATEGORY, 20)(category_name)\n    emb_item_condition = Embedding(MAX_CONDITION, 10)(item_condition)\n    \n    #rnn layers\n    rnn_layer1 = Bidirectional(LSTM(64)) (emb_item_desc)\n    rnn_layer2 = Bidirectional(LSTM(32)) (emb_name)\n    \n    #main layer\n    main_l = concatenate([\n        Flatten() (emb_brand_name)\n        , Flatten() (emb_category_name)\n        , Flatten() (emb_item_condition)\n        , rnn_layer1\n        , rnn_layer2\n        , num_vars\n    ])\n    \n    main_l = Dropout(dr_r) (Dense(128) (main_l))\n    main_l = BatchNormalization()(main_l)\n    main_l = Dropout(dr_r) (Dense(64) (main_l))\n    main_l = BatchNormalization() (main_l)\n    main_l = Dropout(dr_r) (Dense(32) (main_l))\n    main_l = BatchNormalization() (main_l)\n    \n    #output\n    output = Dense(1, activation=\"linear\") (main_l)\n    \n    #model\n    model = Model([name, item_desc, brand_name, category_name, item_condition, num_vars], output)\n    model.compile(loss=\"mse\", optimizer=\"adam\", metrics=[\"mae\", rmsle_cust])\n    \n    return model\n \n    \ndef get_gru_model():\n    #params\n    dr_r = 0.1\n    \n    #Inputs\n    name = Input(shape=[X_train[\"name\"].shape[1]], name=\"name\")\n    item_desc = Input(shape=[X_train[\"item_desc\"].shape[1]], name=\"item_desc\")\n    brand_name = Input(shape=[1], name=\"brand_name\")\n    category_name = Input(shape=[1], name=\"category_name\")\n    item_condition = Input(shape=[1], name=\"item_condition\")\n    num_vars = Input(shape=[X_train[\"num_vars\"].shape[1]], name=\"num_vars\")\n    \n    #Embeddings layers\n    emb_name = Embedding(MAX_TEXT, 50)(name)\n    emb_item_desc = Embedding(MAX_TEXT, 50)(item_desc)\n    emb_brand_name = Embedding(MAX_BRAND, 10)(brand_name)\n    emb_category_name = Embedding(MAX_CATEGORY, 10)(category_name)\n    emb_item_condition = Embedding(MAX_CONDITION, 5)(item_condition)\n    \n    #rnn layer\n    rnn_layer1 = GRU(16) (emb_item_desc)\n    rnn_layer2 = GRU(8) (emb_name)\n    \n    #main layer\n    main_l = concatenate([\n        Flatten() (emb_brand_name)\n        , Flatten() (emb_category_name)\n        , Flatten() (emb_item_condition)\n        , rnn_layer1\n        , rnn_layer2\n        , num_vars\n    ])\n    main_l = Dropout(dr_r) (Dense(128) (main_l))\n    main_l = Dropout(dr_r) (Dense(64) (main_l))\n    \n    #output\n    output = Dense(1, activation=\"linear\") (main_l)\n    \n    #model\n    model = Model([name, item_desc, brand_name\n                   , category_name, item_condition, num_vars], output)\n    model.compile(loss=\"mse\", optimizer=\"adam\", metrics=[\"mae\", rmsle_cust])\n    \n    return model\n\n    \n#model = get_gru_model()\n#model = get_cnn1d_model()\nmodel = get_bi_lstm_model()\nmodel.summary()",
      "execution_count": 22,
      "outputs": [
        {
          "output_type": "stream",
          "text": "__________________________________________________________________________________________________\nLayer (type)                    Output Shape         Param #     Connected to                     \n==================================================================================================\nbrand_name (InputLayer)         (None, 1)            0                                            \n__________________________________________________________________________________________________\ncategory_name (InputLayer)      (None, 1)            0                                            \n__________________________________________________________________________________________________\nitem_condition (InputLayer)     (None, 1)            0                                            \n__________________________________________________________________________________________________\nitem_desc (InputLayer)          (None, 75)           0                                            \n__________________________________________________________________________________________________\nname (InputLayer)               (None, 10)           0                                            \n__________________________________________________________________________________________________\nembedding_23 (Embedding)        (None, 1, 20)        105800      brand_name[0][0]                 \n__________________________________________________________________________________________________\nembedding_24 (Embedding)        (None, 1, 20)        26220       category_name[0][0]              \n__________________________________________________________________________________________________\nembedding_25 (Embedding)        (None, 1, 10)        60          item_condition[0][0]             \n__________________________________________________________________________________________________\nembedding_22 (Embedding)        (None, 75, 100)      25908800    item_desc[0][0]                  \n__________________________________________________________________________________________________\nembedding_21 (Embedding)        (None, 10, 100)      25908800    name[0][0]                       \n__________________________________________________________________________________________________\nflatten_10 (Flatten)            (None, 20)           0           embedding_23[0][0]               \n__________________________________________________________________________________________________\nflatten_11 (Flatten)            (None, 20)           0           embedding_24[0][0]               \n__________________________________________________________________________________________________\nflatten_12 (Flatten)            (None, 10)           0           embedding_25[0][0]               \n__________________________________________________________________________________________________\nbidirectional_3 (Bidirectional) (None, 128)          84480       embedding_22[0][0]               \n__________________________________________________________________________________________________\nbidirectional_4 (Bidirectional) (None, 64)           34048       embedding_21[0][0]               \n__________________________________________________________________________________________________\nnum_vars (InputLayer)           (None, 1)            0                                            \n__________________________________________________________________________________________________\nconcatenate_4 (Concatenate)     (None, 243)          0           flatten_10[0][0]                 \n                                                                 flatten_11[0][0]                 \n                                                                 flatten_12[0][0]                 \n                                                                 bidirectional_3[0][0]            \n                                                                 bidirectional_4[0][0]            \n                                                                 num_vars[0][0]                   \n__________________________________________________________________________________________________\ndense_8 (Dense)                 (None, 128)          31232       concatenate_4[0][0]              \n__________________________________________________________________________________________________\ndropout_6 (Dropout)             (None, 128)          0           dense_8[0][0]                    \n__________________________________________________________________________________________________\nbatch_normalization_1 (BatchNor (None, 128)          512         dropout_6[0][0]                  \n__________________________________________________________________________________________________\ndense_9 (Dense)                 (None, 64)           8256        batch_normalization_1[0][0]      \n__________________________________________________________________________________________________\ndropout_7 (Dropout)             (None, 64)           0           dense_9[0][0]                    \n__________________________________________________________________________________________________\nbatch_normalization_2 (BatchNor (None, 64)           256         dropout_7[0][0]                  \n__________________________________________________________________________________________________\ndense_10 (Dense)                (None, 32)           2080        batch_normalization_2[0][0]      \n__________________________________________________________________________________________________\ndropout_8 (Dropout)             (None, 32)           0           dense_10[0][0]                   \n__________________________________________________________________________________________________\nbatch_normalization_3 (BatchNor (None, 32)           128         dropout_8[0][0]                  \n__________________________________________________________________________________________________\ndense_11 (Dense)                (None, 1)            33          batch_normalization_3[0][0]      \n==================================================================================================\nTotal params: 52,110,705\nTrainable params: 52,110,257\nNon-trainable params: 448\n__________________________________________________________________________________________________\n",
          "name": "stdout"
        }
      ]
    },
    {
      "metadata": {
        "trusted": true,
        "_uuid": "7c5924d3a6000f5ceae4274ac3b9bfafed37831d"
      },
      "cell_type": "code",
      "source": "#FITTING THE MODEL\nBATCH_SIZE = 128\nepochs = 20\n\nmodel = get_model()\nmodel.fit(X_train, dtrain.target, epochs=epochs, batch_size=BATCH_SIZE\n          , validation_data=(X_valid, dvalid.target)\n          , verbose=1)",
      "execution_count": null,
      "outputs": [
        {
          "output_type": "stream",
          "text": "Train on 1467709 samples, validate on 14826 samples\nEpoch 1/20\n 106368/1467709 [=>............................] - ETA: 2:20:42 - loss: 0.0223 - mean_absolute_error: 0.1133 - rmsle_cust: 0.0146",
          "name": "stdout"
        }
      ]
    },
    {
      "metadata": {
        "trusted": true,
        "collapsed": true,
        "_uuid": "2963563499bd53dd0593d01086342827ae2165bb"
      },
      "cell_type": "code",
      "source": "#EVLUEATE THE MODEL ON DEV TEST: What is it doing?\nval_preds = model.predict(X_valid)\nval_preds = target_scaler.inverse_transform(val_preds)\nval_preds = np.exp(val_preds)+1\n\n#mean_absolute_error, mean_squared_log_error\ny_true = np.array(dvalid.price.values)\ny_pred = val_preds[:,0]\nv_rmsle = rmsle(y_true, y_pred)\nprint(\" RMSLE error on dev test: \"+str(v_rmsle))",
      "execution_count": null,
      "outputs": []
    },
    {
      "metadata": {
        "trusted": true,
        "collapsed": true,
        "_uuid": "69fd8876aa796b7620e5d82e450a8424df57f994"
      },
      "cell_type": "code",
      "source": "#CREATE PREDICTIONS\npreds = model.predict(X_test, batch_size=BATCH_SIZE)\npreds = target_scaler.inverse_transform(preds)\npreds = np.exp(preds)-1\n\nsubmission = test[[\"test_id\"]]\nsubmission[\"price\"] = preds",
      "execution_count": null,
      "outputs": []
    },
    {
      "metadata": {
        "trusted": true,
        "collapsed": true,
        "_uuid": "a031478f752d78d624b63a80f9db9de92398c97a"
      },
      "cell_type": "code",
      "source": "submission.to_csv(\"sample_submission.csv\", index=False)\nsubmission.price.hist()",
      "execution_count": null,
      "outputs": []
    }
  ],
  "metadata": {
    "language_info": {
      "name": "python",
      "version": "3.6.4",
      "mimetype": "text/x-python",
      "codemirror_mode": {
        "name": "ipython",
        "version": 3
      },
      "pygments_lexer": "ipython3",
      "nbconvert_exporter": "python",
      "file_extension": ".py"
    },
    "kernelspec": {
      "display_name": "Python 3",
      "language": "python",
      "name": "python3"
    }
  },
  "nbformat": 4,
  "nbformat_minor": 1
}